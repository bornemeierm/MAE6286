{
 "metadata": {
  "name": "",
  "signature": "sha256:5fab7ea35a6ceb9cad441526f2b1744a6cad5816ea5316eaf63919813885cfcf"
 },
 "nbformat": 3,
 "nbformat_minor": 0,
 "worksheets": [
  {
   "cells": [
    {
     "cell_type": "code",
     "collapsed": false,
     "input": [
      "##PAPER AIPLANE CHALLENGE"
     ],
     "language": "python",
     "metadata": {},
     "outputs": [],
     "prompt_number": 4
    },
    {
     "cell_type": "code",
     "collapsed": false,
     "input": [
      "##inits\n",
      "import sympy;\n",
      "import numpy;\n",
      "import matplotlib.pyplot as plot\n",
      "import math;\n",
      "from mpl_toolkits.mplot3d import Axes3D\n",
      "%matplotlib inline"
     ],
     "language": "python",
     "metadata": {},
     "outputs": [],
     "prompt_number": 5
    },
    {
     "cell_type": "code",
     "collapsed": false,
     "input": [
      "##vars\n",
      "g = 9.81\n",
      "m_s = 50.0\n",
      "p = 1.091\n",
      "A = pi*.5**2\n",
      "v_e = 325.0\n",
      "m_p0 = 100.0\n",
      "v_t = 4.9\n",
      "T = 100.0\n",
      "dt = 0.1\n",
      "N = int(T/dt) + 1\n",
      "t = linspace(0,T,N)\n",
      "C_D = 0.15"
     ],
     "language": "python",
     "metadata": {},
     "outputs": [],
     "prompt_number": 6
    },
    {
     "cell_type": "code",
     "collapsed": false,
     "input": [
      "##ic's\n",
      "v0 = 0.0        #indepedent variable\n",
      "#theta0 = 0.0    ##indepedent variable\n",
      "#x0 = 0.0        ##starting point\n",
      "h0 = 0.0        #aribitrarily chosen as release height \n",
      "u = numpy.zeros((N,2))\n",
      "u[0] = [h0, v0]\n"
     ],
     "language": "python",
     "metadata": {},
     "outputs": [],
     "prompt_number": 7
    },
    {
     "cell_type": "code",
     "collapsed": false,
     "input": [
      "##function for the u matrix ; system of four first-order ODE's\n",
      "def f(u): \n",
      "    h = u[0]\n",
      "    v = u[1]\n",
      "    return numpy.array([v,-g + (m_pdot*(v_e)-\\\n",
      "                        .5*p*v*numpy.absolute(v)*A*C_D)/(m_s+m_p)])"
     ],
     "language": "python",
     "metadata": {},
     "outputs": [],
     "prompt_number": 8
    },
    {
     "cell_type": "code",
     "collapsed": false,
     "input": [
      "def euler_method(u, f, dt):\n",
      "    return u + dt * f(u)    ##Euler's method\n",
      " "
     ],
     "language": "python",
     "metadata": {},
     "outputs": [],
     "prompt_number": 9
    },
    {
     "cell_type": "code",
     "collapsed": false,
     "input": [
      "burntime = 5./dt;\n",
      "N_burn = int(burntime) ##50 integer\n",
      "m_pdot = 20.\n",
      "\n",
      "for n in range (0, N_burn, 1):\n",
      "    m_p = m_p0 - m_pdot*dt*(n+1)\n",
      "    u[n+1] = euler_method(u[n], f, dt)\n",
      "  \n",
      "m_pdot = 0.0\n",
      "m_p = 0.0    \n",
      "    \n",
      "for n in range(N_burn, N-1, 1):\n",
      "    u[n+1] = euler_method(u[n], f, dt)\n",
      "    if u[n+1,0]<=1:\n",
      "        print(u[n+1])\n",
      "        print((n+1)*dt)\n",
      "        break\n",
      "\n",
      "h = numpy.zeros((N))\n",
      "h = u[:,0]\n",
      "v = u[:,1]"
     ],
     "language": "python",
     "metadata": {},
     "outputs": [
      {
       "output_type": "stream",
       "stream": "stdout",
       "text": [
        "[ -3.87684893 -86.08238473]\n",
        "37.4\n"
       ]
      }
     ],
     "prompt_number": 10
    },
    {
     "cell_type": "code",
     "collapsed": false,
     "input": [
      "## Plot x vs y 2-D\n",
      "\n",
      "h_max = max(h)\n",
      "t_hmax = (numpy.argmax(h)+1)*dt\n",
      "print h_max\n",
      "print t_hmax\n",
      "\n",
      "v_max = max(v)\n",
      "t_vmax = (numpy.argmax(v)+1)*dt\n",
      "print v_max\n",
      "print t_vmax\n",
      "\n",
      "##a(numpy.argmax()+1)*dt\n",
      "\n",
      "print(u[5.1/dt])\n",
      "\n",
      "\n",
      "fig1 = plt.figure()\n",
      "plt.figure(figsize=(8,6));\n",
      "plt.tick_params(axis='both', labelsize=14);\n",
      "plt.plot(t,h)\n",
      "plt.grid(True);\n",
      "#plt.title('Glider position');\n",
      "plt.xlabel(r't', fontsize=18);\n",
      "plt.ylabel(r'altitude', fontsize=18);\n",
      "plt.ylim(0,1500)\n",
      "plt.xlim(0,40)"
     ],
     "language": "python",
     "metadata": {},
     "outputs": [
      {
       "output_type": "stream",
       "stream": "stdout",
       "text": [
        "1354.63079286\n",
        "15.9\n",
        "235.897189204\n",
        "5.1\n",
        "[ 533.05422219  235.8971892 ]\n"
       ]
      },
      {
       "metadata": {},
       "output_type": "pyout",
       "prompt_number": 11,
       "text": [
        "(0, 40)"
       ]
      },
      {
       "metadata": {},
       "output_type": "display_data",
       "text": [
        "<matplotlib.figure.Figure at 0x7f7b17426e50>"
       ]
      },
      {
       "metadata": {},
       "output_type": "display_data",
       "png": "[encoded data removed]",
       "text": [
        "<matplotlib.figure.Figure at 0x7f7b340cc2d0>"
       ]
      }
     ],
     "prompt_number": 11
    }
   ],
   "metadata": {}
  }
 ]
}