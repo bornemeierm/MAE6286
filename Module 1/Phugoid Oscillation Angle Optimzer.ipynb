{
 "metadata": {
  "name": "",
  "signature": "sha256:d8b04ec58d21d362d481a8dc16bffffb4cbfe3e78d5508cd23dee1cdc4cc49b1"
 },
 "nbformat": 3,
 "nbformat_minor": 0,
 "worksheets": [
  {
   "cells": [
    {
     "cell_type": "code",
     "collapsed": false,
     "input": [
      "##inits\n",
      "import sympy;\n",
      "import numpy;\n",
      "import matplotlib.pyplot as plot\n",
      "import math;\n",
      "from mpl_toolkits.mplot3d import Axes3D\n",
      "%matplotlib inline"
     ],
     "language": "python",
     "metadata": {},
     "outputs": [],
     "prompt_number": 15
    },
    {
     "cell_type": "code",
     "collapsed": false,
     "input": [
      "##vars\n",
      "g = 9.81\n",
      "v_t = 4.9\n",
      "T = 10\n",
      "dt = 0.1\n",
      "N = int(T/dt) + 1\n",
      "t = linspace(0,T,N)\n",
      "C_L = 1.0\n",
      "C_D = 0.2"
     ],
     "language": "python",
     "metadata": {},
     "outputs": [],
     "prompt_number": 16
    },
    {
     "cell_type": "code",
     "collapsed": false,
     "input": [
      "##ic's\n",
      "v0 = .1    ##indepedent variable\n",
      "theta0 = -pi/4  ##indepedent variable\n",
      "x0 = 0.0        ##starting point\n",
      "y0 = 2.0        #aribitrarily chosen as release height \n",
      "u = numpy.zeros((N,4))\n",
      "u[0] = [v0, theta0, x0, y0]"
     ],
     "language": "python",
     "metadata": {},
     "outputs": [],
     "prompt_number": 17
    },
    {
     "cell_type": "code",
     "collapsed": false,
     "input": [
      "##function for the u matrix ; system of four first-order ODE's\n",
      "def f(u): \n",
      "    v = u[0]\n",
      "    theta = u[1]\n",
      "    x = u[2]\n",
      "    y = u[3]\n",
      "    return numpy.array([-g*sin(theta)-(C_D/C_L)*(g/v_t**2)*v**2,\n",
      "                      -(g*cos(theta))/v + (g/v_t**2)*v,\n",
      "                      v*cos(theta),\n",
      "                      v*sin(theta)])"
     ],
     "language": "python",
     "metadata": {},
     "outputs": [],
     "prompt_number": 18
    },
    {
     "cell_type": "code",
     "collapsed": false,
     "input": [
      "def euler_method(u, f, dt):\n",
      "    return u + dt * f(u)           ##Euler's method "
     ],
     "language": "python",
     "metadata": {},
     "outputs": [],
     "prompt_number": 19
    },
    {
     "cell_type": "code",
     "collapsed": false,
     "input": [
      "#v0max = numpy.zeros((1,4))\n",
      "I = 10  #number of v0 values\n",
      "J = 10  #number of theta0 values per v0 value \n",
      "IVmax = numpy.array([0,0,0,0])\n",
      "pi = math.pi\n",
      "v0_range = numpy.linspace(1,25,I)\n",
      "theta0_range = numpy.linspace(-pi/4,pi/4,J)\n",
      "\n",
      "solution = numpy.zeros((I*J+1,I*J+1,4))       ###1st column:x  2nd:time  3rd:v0  4th:theta0\n",
      "k = 0\n",
      "m = 0\n",
      "\n",
      "for theta0 in theta0_range:\n",
      "    for v0 in v0_range:\n",
      "        u = np.zeros((N,4))\n",
      "        u[0] = numpy.array([v0, theta0, x0, y0])\n",
      "        for n in range (N-1):\n",
      "            u[n+1] = euler_method(u[n], f, dt)\n",
      "            if u[n+1,3] <= 0:\n",
      "                solution[m,k,0] = u[n+1,2]\n",
      "                solution[m,k,1] = (n+1) * dt\n",
      "                solution[m,k,2] = v0\n",
      "                solution[m,k,3]= theta0\n",
      "                #print(solution[m,k])  \n",
      "                if solution[m,k,0]>IVmax[0]:\n",
      "                    IVmax=solution[m,k]\n",
      "                break\n",
      "        #if solution[m,k,0]>IVmax[0]:\n",
      "        #    IVmax=solution[m,k]\n",
      "        \n",
      "        k += 1\n",
      "    m += 1 \n",
      "#print(IVmax)    \n",
      "#print(solution)\n",
      "#for i in range(0,I,51):\n",
      "#     for j in range(0,J,51):\n",
      "#         if solution[i+1,j+1,0] >= solution[i,j,0]:\n",
      "#             IVmax[0]=solution[i+1,j+1,0]\n",
      "#             print(IVmax)"
     ],
     "language": "python",
     "metadata": {},
     "outputs": [],
     "prompt_number": 20
    },
    {
     "cell_type": "code",
     "collapsed": false,
     "input": [
      "print('       x          t                v0            theta0')  \n",
      "print(IVmax)"
     ],
     "language": "python",
     "metadata": {},
     "outputs": [
      {
       "output_type": "stream",
       "stream": "stdout",
       "text": [
        "       x          t                v0            theta0\n",
        "[ 155.76781994    4.           11.66666667   -0.61086524]\n"
       ]
      }
     ],
     "prompt_number": 21
    },
    {
     "cell_type": "code",
     "collapsed": false,
     "input": [],
     "language": "python",
     "metadata": {},
     "outputs": [],
     "prompt_number": 21
    },
    {
     "cell_type": "code",
     "collapsed": false,
     "input": [],
     "language": "python",
     "metadata": {},
     "outputs": [],
     "prompt_number": 21
    },
    {
     "cell_type": "code",
     "collapsed": false,
     "input": [],
     "language": "python",
     "metadata": {},
     "outputs": [],
     "prompt_number": 21
    },
    {
     "cell_type": "code",
     "collapsed": false,
     "input": [],
     "language": "python",
     "metadata": {},
     "outputs": [],
     "prompt_number": 21
    },
    {
     "cell_type": "code",
     "collapsed": false,
     "input": [],
     "language": "python",
     "metadata": {},
     "outputs": [],
     "prompt_number": 21
    }
   ],
   "metadata": {}
  }
 ]
}