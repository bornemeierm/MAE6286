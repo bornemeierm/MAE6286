{
 "metadata": {
  "name": "",
  "signature": "sha256:2222fe0aae98ad1a075a4aaa843e1ea6d0d670bad9748327d5f7e2340ed3f06d"
 },
 "nbformat": 3,
 "nbformat_minor": 0,
 "worksheets": [
  {
   "cells": [
    {
     "cell_type": "code",
     "collapsed": false,
     "input": [
      "##1-D Spacetime grid for finite difference"
     ],
     "language": "python",
     "metadata": {},
     "outputs": [],
     "prompt_number": 136
    },
    {
     "cell_type": "code",
     "collapsed": false,
     "input": [
      "import numpy                       \n",
      "import matplotlib.pyplot as plt                 \n",
      "%matplotlib inline\n",
      "from matplotlib import rcParams\n",
      "rcParams['font.family'] = 'serif'\n",
      "rcParams['font.size'] = 16"
     ],
     "language": "python",
     "metadata": {},
     "outputs": [],
     "prompt_number": 2
    },
    {
     "cell_type": "code",
     "collapsed": false,
     "input": [
      "nx = 51\n",
      "dx = 2.0/(nx-1)\n",
      "nt = 25    \n",
      "c = 1.               #assume wavespeed of c = 1\n",
      "sigma = .5\n",
      "dt = sigma*dx"
     ],
     "language": "python",
     "metadata": {},
     "outputs": [],
     "prompt_number": 3
    },
    {
     "cell_type": "code",
     "collapsed": false,
     "input": [
      "u = numpy.zeros((nx))\n",
      "print(u)"
     ],
     "language": "python",
     "metadata": {},
     "outputs": [
      {
       "output_type": "stream",
       "stream": "stdout",
       "text": [
        "[ 0.  0.  0.  0.  0.  0.  0.  0.  0.  0.  0.  0.  0.  0.  0.  0.  0.  0.\n",
        "  0.  0.  0.  0.  0.  0.  0.  0.  0.  0.  0.  0.  0.  0.  0.  0.  0.  0.\n",
        "  0.  0.  0.  0.]\n"
       ]
      }
     ],
     "prompt_number": 13
    },
    {
     "cell_type": "code",
     "collapsed": false,
     "input": [
      "u = numpy.zeros((nx))   #numpy function ones()\n",
      "\n",
      "for x in range u:\n",
      "    if nx<26:\n",
      "        u[x]=0\n",
      "    if 23<nx<29:   \n",
      "        u[x]=10*(x-.9)\n",
      "    if nx>29:\n",
      "        u[x]=10*(1.1-x)\n",
      "    "
     ],
     "language": "python",
     "metadata": {},
     "outputs": [
      {
       "ename": "SyntaxError",
       "evalue": "invalid syntax (<ipython-input-14-5c8111df0484>, line 3)",
       "output_type": "pyerr",
       "traceback": [
        "\u001b[1;36m  File \u001b[1;32m\"<ipython-input-14-5c8111df0484>\"\u001b[1;36m, line \u001b[1;32m3\u001b[0m\n\u001b[1;33m    for x in range u:\u001b[0m\n\u001b[1;37m                   ^\u001b[0m\n\u001b[1;31mSyntaxError\u001b[0m\u001b[1;31m:\u001b[0m invalid syntax\n"
       ]
      }
     ],
     "prompt_number": 14
    },
    {
     "cell_type": "code",
     "collapsed": false,
     "input": [
      "un = numpy.ones(nx) #initialize a temporary array\n",
      "\n",
      "for n in range(nt):  \n",
      "    un = u.copy() \n",
      "    #plt.plot(numpy.linspace(0,2,nx), u, color='#003366', ls='--',\\\n",
      "    #lw=3, alpha=(1./nt)*n);\n",
      "    # plt.ylim(0,2.5);\n",
      "    for i in range(1,nx): \n",
      "        u[i] = un[i]-c*dt/dx*(un[i]-un[i-1])\n",
      "        \n",
      "plt.plot(numpy.linspace(0,2,nx), u, color='#003366', ls='--', lw=3)\n",
      "plt.ylim(0,2.5);    "
     ],
     "language": "python",
     "metadata": {},
     "outputs": [
      {
       "metadata": {},
       "output_type": "display_data",
       "png": "[encoded data removed]",
       "text": [
        "<matplotlib.figure.Figure at 0x7f5f58d6e590>"
       ]
      }
     ],
     "prompt_number": 153
    },
    {
     "cell_type": "code",
     "collapsed": false,
     "input": [],
     "language": "python",
     "metadata": {},
     "outputs": [],
     "prompt_number": 141
    }
   ],
   "metadata": {}
  }
 ]
}