{
 "metadata": {
  "name": "",
  "signature": "sha256:b339efa83d1c31f834719d392e3032e5d1260996c9236b52a2687aad01f62c2e"
 },
 "nbformat": 3,
 "nbformat_minor": 0,
 "worksheets": [
  {
   "cells": [
    {
     "cell_type": "code",
     "collapsed": false,
     "input": [
      "#inits\n",
      "import numpy\n",
      "import sympy\n",
      "import math\n",
      "import matplotlib.pyplot as plt\n",
      "%matplotlib inline\n",
      "from matplotlib import rcParams\n",
      "rcParams['font.family'] = 'serif'\n",
      "rcParams['font.size'] = 16"
     ],
     "language": "python",
     "metadata": {},
     "outputs": [],
     "prompt_number": 143
    },
    {
     "cell_type": "code",
     "collapsed": false,
     "input": [
      "##problem parameters\n",
      "nx = 80\n",
      "dx = 5./(nx-1)\n",
      "nt = 10    \n",
      "#dt = 0.02  \n",
      "#sigma = 1\n",
      "dt = (dx)/1.97\n",
      "\n",
      "##initial conditions\n",
      "u = numpy.ones(nx)      \n",
      "u[.5/dx : 1/dx+1]=2.0  \n",
      "\n",
      "x = numpy.linspace(0,2,nx)"
     ],
     "language": "python",
     "metadata": {},
     "outputs": [],
     "prompt_number": 144
    },
    {
     "cell_type": "code",
     "collapsed": false,
     "input": [
      "'''for n in range(1,nt):  \n",
      "    un = u.copy() \n",
      "    plt.plot(numpy.linspace(0,5,nx), u, color='#003366', ls='--',\\\n",
      "    lw=3, alpha=(1./nt)*n);\n",
      "    plt.ylim(0,2.5);\n",
      "    plt.xlim(0,5);\n",
      "    for i in range(1,nx): \n",
      "        u[i] = un[i]-un[i]*dt/dx*(un[i]-un[i-1])'''\n",
      "               \n",
      "#plt.plot(numpy.linspace(0,5,nx), u, 'g', ls='--', lw=3)\n",
      "#plt.ylim(0,2.5);"
     ],
     "language": "python",
     "metadata": {},
     "outputs": [],
     "prompt_number": 145
    },
    {
     "cell_type": "code",
     "collapsed": false,
     "input": [
      "for n in range(1,nt):  \n",
      "    un = u.copy() \n",
      "    #plt.plot(numpy.linspace(0,5,nx), u, color='#003366', ls='--',\\\n",
      "    #lw=3, alpha=(1./nt)*n);\n",
      "    #plt.ylim(0,2.5);\n",
      "    #plt.xlim(0,5);\n",
      "    for i in range(1,nx): \n",
      "        u[1:] = un[1:]-un[1:]*dt/dx*(un[1:]-un[0:-1])\n",
      "               \n",
      "plt.plot(numpy.linspace(0,5,nx), u, 'g', ls='--', lw=3)\n",
      "plt.ylim(0,2.5);"
     ],
     "language": "python",
     "metadata": {},
     "outputs": [
      {
       "metadata": {},
       "output_type": "display_data",
       "png": "[encoded data removed]",
       "text": [
        "<matplotlib.figure.Figure at 0x7f151ff137d0>"
       ]
      }
     ],
     "prompt_number": 155
    },
    {
     "cell_type": "code",
     "collapsed": false,
     "input": [],
     "language": "python",
     "metadata": {},
     "outputs": [],
     "prompt_number": 146
    }
   ],
   "metadata": {}
  }
 ]
}