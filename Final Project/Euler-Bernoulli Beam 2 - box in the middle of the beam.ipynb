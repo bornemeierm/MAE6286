{
 "metadata": {
  "name": "",
  "signature": "sha256:cab6c12bf170c272375bdd832550d202fc704791d635dcbd4f44df5c10e64003"
 },
 "nbformat": 3,
 "nbformat_minor": 0,
 "worksheets": [
  {
   "cells": [
    {
     "cell_type": "heading",
     "level": 3,
     "metadata": {},
     "source": [
      "Lions, Tigers, 4th Order PDE's, Oh My!"
     ]
    },
    {
     "cell_type": "code",
     "collapsed": false,
     "input": [
      "import numpy;\n",
      "import sympy;\n",
      "import matplotlib.pyplot as plt;\n",
      "%matplotlib inline\n",
      "from matplotlib import animation\n",
      "from JSAnimation.IPython_display import display_animation"
     ],
     "language": "python",
     "metadata": {},
     "outputs": []
    },
    {
     "cell_type": "code",
     "collapsed": false,
     "input": [
      "sigma = 0.5;                #CFL condition must be less than or equal to .5 to ensure stability\n",
      "nx = 80                      #number of points along the beam\n",
      "\n",
      "rho = 8000.                  #density of steel (kg/m^3)\n",
      "r = 0.3048/2.                #radius (m) This is a radius of 6 inches, or a diameter of 1 ft\n",
      "I = 0.5*numpy.pi*(r)**4      #Area moment of inertia (m^4)\n",
      "E = 200.*(10.**9)            #Young's Modulus for steel (N/m^2) or (Pa) \n",
      "A = numpy.pi * (r)**2        #Cross-Sectional Area of the circular beam (m^2)\n",
      "b = sqrt((E*I)/(rho*A))      #redefine the coefficient as b^2\n",
      "\n",
      "L = 3.048                    #Length of the rod (m), 10 feet\n",
      "dx = (L/(nx))                #size of spatial step\n",
      "dt = (sigma*(dx)**2)/b       #size of timestep, with CFL defensively coded in\n",
      "nt = 10000                    #number of time steps\n",
      "totaltime = dt*nt            #how long (s) we are running the simulation\n",
      "\n",
      "print(totaltime)"
     ],
     "language": "python",
     "metadata": {},
     "outputs": []
    },
    {
     "cell_type": "code",
     "collapsed": false,
     "input": [
      "# IC's\n",
      "w = numpy.zeros((nt,nx))\n",
      "w_i = numpy.zeros(nx)\n",
      "w_ii = numpy.zeros(nx)         #initial velocity will be zero for the first go of this equation\n",
      "\n",
      "\n",
      "#simulating a load on the end of the beam before time = 0, some sort of continuous bending function. This was arbitrarily chosen.\n",
      "for i in range(nx):\n",
      "    w_i[i] = -(.01312)*(i*dx) + (.004306)*((i*dx)**2) \n",
      "w[0] = 0\n",
      "w[nx-1] = 0"
     ],
     "language": "python",
     "metadata": {},
     "outputs": []
    },
    {
     "cell_type": "code",
     "collapsed": false,
     "input": [
      "x = linspace(0,L,nx)\n",
      "fig = plt.figure();\n",
      "plt.plot(x,w_i)\n",
      "plt.xlabel('Length (m)', fontsize=14)\n",
      "plt.ylabel('Displacement in x-direction (m)', fontsize=14)\n",
      "plt.grid(True)\n",
      "plt.title('Initial Beam Displacement', fontsize=16);"
     ],
     "language": "python",
     "metadata": {},
     "outputs": []
    },
    {
     "cell_type": "code",
     "collapsed": false,
     "input": [
      "def ebd(b, dt, dx, w_i, w_ii,w):\n",
      "    w_dummy = numpy.zeros(nx)\n",
      "    w_firststep = numpy.zeros(nx)\n",
      "    w_firststep = w_i\n",
      "    #\n",
      "    w_firststep[2:-2] = w_i[2:-2] + dt*w_ii[2:-2] + (.5 * -(b**2.)*(dt**2.))*(w_i[4:] - 4.*w_i[3:-1] + 6.*w_i[2:-2] - 4.*w_i[1:-3] + w_i[:-4])\n",
      "    w[0,:] = w_i.copy()\n",
      "    w[1,:]= w_firststep.copy()\n",
      "    w_dummy = w_firststep.copy()\n",
      "    \n",
      "    for i in range(int(nt-2)):\n",
      "        w[i+2,2:-2] = w_dummy[2:-2]*(2. - (6.*b**2.*dt**2.)/(dx**4)) - (((b**2)*(dt**2))/(dx**4))*(w_dummy[4:] - 4.*(w_dummy[3:-1] + w_dummy[1:-3]) + w_dummy[:-4]) - w_i[2:-2]\n",
      "        \n",
      "        w_i = w_dummy.copy()\n",
      "        w_dummy = w[i+2,:].copy()\n",
      "        w[i+2,0] = 0\n",
      "        w[i+2,1] = 0\n",
      "        w[i+2,-1] = 0\n",
      "        w[i+2,-2] = 0\n",
      "        "
     ],
     "language": "python",
     "metadata": {},
     "outputs": []
    },
    {
     "cell_type": "code",
     "collapsed": false,
     "input": [
      "ebd(b,dt,dx,w_i,w_ii,w)"
     ],
     "language": "python",
     "metadata": {},
     "outputs": []
    },
    {
     "cell_type": "code",
     "collapsed": false,
     "input": [
      "fig = plt.figure();\n",
      "ax = plt.axes(xlim=(0,L+.1),ylim=(-.03,.03),xlabel=('Beam Length'),ylabel=('Beam Displacement'));\n",
      "line, = ax.plot([],[],color='#003366', lw=2);\n",
      "\n",
      "def animate(frame):\n",
      "    x = numpy.linspace(0,L,nx)\n",
      "    y = w[frame,:]\n",
      "    line.set_data(x,y)\n",
      "    return line,\n",
      "\n",
      "anim = animation.FuncAnimation(fig, animate, frames=nt-1, interval=50)\n",
      "display_animation(anim, default_mode='once')"
     ],
     "language": "python",
     "metadata": {},
     "outputs": []
    },
    {
     "cell_type": "code",
     "collapsed": false,
     "input": [],
     "language": "python",
     "metadata": {},
     "outputs": []
    }
   ],
   "metadata": {}
  }
 ]
}